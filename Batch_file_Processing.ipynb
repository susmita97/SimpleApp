{
  "nbformat": 4,
  "nbformat_minor": 0,
  "metadata": {
    "colab": {
      "provenance": [],
      "collapsed_sections": []
    },
    "kernelspec": {
      "name": "python3",
      "display_name": "Python 3"
    },
    "language_info": {
      "name": "python"
    }
  },
  "cells": [
    {
      "cell_type": "code",
      "execution_count": 82,
      "metadata": {
        "id": "J94uobt_PWW9"
      },
      "outputs": [],
      "source": [
        "# All imports\n",
        "import numpy as np\n",
        "import pandas as pd\n",
        "import matplotlib.pyplot as plt"
      ]
    },
    {
      "cell_type": "code",
      "source": [
        "# Read the data\n",
        "data = pd.read_csv('sample_data/data.csv')"
      ],
      "metadata": {
        "id": "UhfLw7kbQAp9"
      },
      "execution_count": 83,
      "outputs": []
    },
    {
      "cell_type": "code",
      "source": [
        "data.head()"
      ],
      "metadata": {
        "colab": {
          "base_uri": "https://localhost:8080/",
          "height": 270
        },
        "id": "rWrd2niAQWql",
        "outputId": "479481d3-a2a2-4912-8dba-1df47013fe9f"
      },
      "execution_count": 84,
      "outputs": [
        {
          "output_type": "execute_result",
          "data": {
            "text/plain": [
              "   ID  GrossMonthlyIncome  CreditCardPayment  CarPayment  StudentLoanPayments  \\\n",
              "0   1              3103.0              317.0       374.0                250.0   \n",
              "1   2              2939.0              368.0       395.0                228.0   \n",
              "2   3              4676.0              222.0       352.0                368.0   \n",
              "3   4              8469.0              224.0       416.0                400.0   \n",
              "4   5              2406.0              497.0       385.0                444.0   \n",
              "\n",
              "   AppraisedValue  DownPayment  LoanAmount  MonthlyMortgagePayment  \\\n",
              "0        268468.0     32216.16   236251.84                 1127.90   \n",
              "1        335467.0     30192.03   305274.97                 2240.00   \n",
              "2        461177.0     36894.16   424282.84                 2277.64   \n",
              "3        326904.0     22883.28   304020.72                 1451.44   \n",
              "4        472661.0     23633.05   449027.95                 2987.39   \n",
              "\n",
              "   CreditScore  \n",
              "0          778  \n",
              "1          546  \n",
              "2          736  \n",
              "3          761  \n",
              "4          615  "
            ],
            "text/html": [
              "\n",
              "  <div id=\"df-7c31a83f-6701-46cb-94a1-6465c255a803\">\n",
              "    <div class=\"colab-df-container\">\n",
              "      <div>\n",
              "<style scoped>\n",
              "    .dataframe tbody tr th:only-of-type {\n",
              "        vertical-align: middle;\n",
              "    }\n",
              "\n",
              "    .dataframe tbody tr th {\n",
              "        vertical-align: top;\n",
              "    }\n",
              "\n",
              "    .dataframe thead th {\n",
              "        text-align: right;\n",
              "    }\n",
              "</style>\n",
              "<table border=\"1\" class=\"dataframe\">\n",
              "  <thead>\n",
              "    <tr style=\"text-align: right;\">\n",
              "      <th></th>\n",
              "      <th>ID</th>\n",
              "      <th>GrossMonthlyIncome</th>\n",
              "      <th>CreditCardPayment</th>\n",
              "      <th>CarPayment</th>\n",
              "      <th>StudentLoanPayments</th>\n",
              "      <th>AppraisedValue</th>\n",
              "      <th>DownPayment</th>\n",
              "      <th>LoanAmount</th>\n",
              "      <th>MonthlyMortgagePayment</th>\n",
              "      <th>CreditScore</th>\n",
              "    </tr>\n",
              "  </thead>\n",
              "  <tbody>\n",
              "    <tr>\n",
              "      <th>0</th>\n",
              "      <td>1</td>\n",
              "      <td>3103.0</td>\n",
              "      <td>317.0</td>\n",
              "      <td>374.0</td>\n",
              "      <td>250.0</td>\n",
              "      <td>268468.0</td>\n",
              "      <td>32216.16</td>\n",
              "      <td>236251.84</td>\n",
              "      <td>1127.90</td>\n",
              "      <td>778</td>\n",
              "    </tr>\n",
              "    <tr>\n",
              "      <th>1</th>\n",
              "      <td>2</td>\n",
              "      <td>2939.0</td>\n",
              "      <td>368.0</td>\n",
              "      <td>395.0</td>\n",
              "      <td>228.0</td>\n",
              "      <td>335467.0</td>\n",
              "      <td>30192.03</td>\n",
              "      <td>305274.97</td>\n",
              "      <td>2240.00</td>\n",
              "      <td>546</td>\n",
              "    </tr>\n",
              "    <tr>\n",
              "      <th>2</th>\n",
              "      <td>3</td>\n",
              "      <td>4676.0</td>\n",
              "      <td>222.0</td>\n",
              "      <td>352.0</td>\n",
              "      <td>368.0</td>\n",
              "      <td>461177.0</td>\n",
              "      <td>36894.16</td>\n",
              "      <td>424282.84</td>\n",
              "      <td>2277.64</td>\n",
              "      <td>736</td>\n",
              "    </tr>\n",
              "    <tr>\n",
              "      <th>3</th>\n",
              "      <td>4</td>\n",
              "      <td>8469.0</td>\n",
              "      <td>224.0</td>\n",
              "      <td>416.0</td>\n",
              "      <td>400.0</td>\n",
              "      <td>326904.0</td>\n",
              "      <td>22883.28</td>\n",
              "      <td>304020.72</td>\n",
              "      <td>1451.44</td>\n",
              "      <td>761</td>\n",
              "    </tr>\n",
              "    <tr>\n",
              "      <th>4</th>\n",
              "      <td>5</td>\n",
              "      <td>2406.0</td>\n",
              "      <td>497.0</td>\n",
              "      <td>385.0</td>\n",
              "      <td>444.0</td>\n",
              "      <td>472661.0</td>\n",
              "      <td>23633.05</td>\n",
              "      <td>449027.95</td>\n",
              "      <td>2987.39</td>\n",
              "      <td>615</td>\n",
              "    </tr>\n",
              "  </tbody>\n",
              "</table>\n",
              "</div>\n",
              "      <button class=\"colab-df-convert\" onclick=\"convertToInteractive('df-7c31a83f-6701-46cb-94a1-6465c255a803')\"\n",
              "              title=\"Convert this dataframe to an interactive table.\"\n",
              "              style=\"display:none;\">\n",
              "        \n",
              "  <svg xmlns=\"http://www.w3.org/2000/svg\" height=\"24px\"viewBox=\"0 0 24 24\"\n",
              "       width=\"24px\">\n",
              "    <path d=\"M0 0h24v24H0V0z\" fill=\"none\"/>\n",
              "    <path d=\"M18.56 5.44l.94 2.06.94-2.06 2.06-.94-2.06-.94-.94-2.06-.94 2.06-2.06.94zm-11 1L8.5 8.5l.94-2.06 2.06-.94-2.06-.94L8.5 2.5l-.94 2.06-2.06.94zm10 10l.94 2.06.94-2.06 2.06-.94-2.06-.94-.94-2.06-.94 2.06-2.06.94z\"/><path d=\"M17.41 7.96l-1.37-1.37c-.4-.4-.92-.59-1.43-.59-.52 0-1.04.2-1.43.59L10.3 9.45l-7.72 7.72c-.78.78-.78 2.05 0 2.83L4 21.41c.39.39.9.59 1.41.59.51 0 1.02-.2 1.41-.59l7.78-7.78 2.81-2.81c.8-.78.8-2.07 0-2.86zM5.41 20L4 18.59l7.72-7.72 1.47 1.35L5.41 20z\"/>\n",
              "  </svg>\n",
              "      </button>\n",
              "      \n",
              "  <style>\n",
              "    .colab-df-container {\n",
              "      display:flex;\n",
              "      flex-wrap:wrap;\n",
              "      gap: 12px;\n",
              "    }\n",
              "\n",
              "    .colab-df-convert {\n",
              "      background-color: #E8F0FE;\n",
              "      border: none;\n",
              "      border-radius: 50%;\n",
              "      cursor: pointer;\n",
              "      display: none;\n",
              "      fill: #1967D2;\n",
              "      height: 32px;\n",
              "      padding: 0 0 0 0;\n",
              "      width: 32px;\n",
              "    }\n",
              "\n",
              "    .colab-df-convert:hover {\n",
              "      background-color: #E2EBFA;\n",
              "      box-shadow: 0px 1px 2px rgba(60, 64, 67, 0.3), 0px 1px 3px 1px rgba(60, 64, 67, 0.15);\n",
              "      fill: #174EA6;\n",
              "    }\n",
              "\n",
              "    [theme=dark] .colab-df-convert {\n",
              "      background-color: #3B4455;\n",
              "      fill: #D2E3FC;\n",
              "    }\n",
              "\n",
              "    [theme=dark] .colab-df-convert:hover {\n",
              "      background-color: #434B5C;\n",
              "      box-shadow: 0px 1px 3px 1px rgba(0, 0, 0, 0.15);\n",
              "      filter: drop-shadow(0px 1px 2px rgba(0, 0, 0, 0.3));\n",
              "      fill: #FFFFFF;\n",
              "    }\n",
              "  </style>\n",
              "\n",
              "      <script>\n",
              "        const buttonEl =\n",
              "          document.querySelector('#df-7c31a83f-6701-46cb-94a1-6465c255a803 button.colab-df-convert');\n",
              "        buttonEl.style.display =\n",
              "          google.colab.kernel.accessAllowed ? 'block' : 'none';\n",
              "\n",
              "        async function convertToInteractive(key) {\n",
              "          const element = document.querySelector('#df-7c31a83f-6701-46cb-94a1-6465c255a803');\n",
              "          const dataTable =\n",
              "            await google.colab.kernel.invokeFunction('convertToInteractive',\n",
              "                                                     [key], {});\n",
              "          if (!dataTable) return;\n",
              "\n",
              "          const docLinkHtml = 'Like what you see? Visit the ' +\n",
              "            '<a target=\"_blank\" href=https://colab.research.google.com/notebooks/data_table.ipynb>data table notebook</a>'\n",
              "            + ' to learn more about interactive tables.';\n",
              "          element.innerHTML = '';\n",
              "          dataTable['output_type'] = 'display_data';\n",
              "          await google.colab.output.renderOutput(dataTable, element);\n",
              "          const docLink = document.createElement('div');\n",
              "          docLink.innerHTML = docLinkHtml;\n",
              "          element.appendChild(docLink);\n",
              "        }\n",
              "      </script>\n",
              "    </div>\n",
              "  </div>\n",
              "  "
            ]
          },
          "metadata": {},
          "execution_count": 84
        }
      ]
    },
    {
      "cell_type": "code",
      "source": [
        "#Add columns to save the results\n",
        "data[\"Approval\"] = \"\"\n",
        "data[\"Reason\"] = \"\""
      ],
      "metadata": {
        "id": "eQnfwH3abVjL"
      },
      "execution_count": 85,
      "outputs": []
    },
    {
      "cell_type": "code",
      "source": [
        "for x in data.index:\n",
        "  approved = False\n",
        "  if data['CreditScore'][x] > 640: # Check for Credit Score condition \n",
        "    \n",
        "    loanbalance = data['AppraisedValue'][x]-data['DownPayment'][x]\n",
        "    ltv = (loanbalance/data['AppraisedValue'][x])*100\n",
        "    if ltv > 80:                   # Check for Loan to Value Condition\n",
        "      pmi = data['AppraisedValue'][x]/100     # Account for PMI\n",
        "    else:\n",
        "      pmi = 0\n",
        "    temp = pmi + data['CreditCardPayment'][x]+data['CarPayment'][x]+data['StudentLoanPayments'][x]+data['MonthlyMortgagePayment'][x]\n",
        "    dti = (temp / data['GrossMonthlyIncome'][x])*100  # Calculate DTI\n",
        "    if dti <= 43:                  # Check for DTI condition\n",
        "      fedti = ((temp-data['MonthlyMortgagePayment'][x]-pmi)/data['GrossMonthlyIncome'][x])*100  # Calculate FEDTI\n",
        "      if fedti <= 28 and ltv <= 95:\n",
        "        approved = True\n",
        "        data['Approval'][x] = \"Yes\"\n",
        "        data['Reason'][x] = \"You pass all criteria\"  # Enter all feedback\n",
        "      else:\n",
        "        data['Reason'][x] = \"FEDTI is high, should be 28% or less\"\n",
        "        data['Approval'][x] = \"No\"\n",
        "    else:\n",
        "      data['Reason'][x] = \"DTI is high, should be 43 or less prefereably less than 28%\"\n",
        "      data['Approval'][x] = \"No\"\n",
        "  else:\n",
        "    data['Reason'][x] = \"Credit Score is too low, should be 640 or above\"\n",
        "    data['Approval'][x] = \"No\""
      ],
      "metadata": {
        "colab": {
          "base_uri": "https://localhost:8080/"
        },
        "id": "ei2l-q3dQZra",
        "outputId": "d1547295-2d24-4e27-ee4d-36e61c126446"
      },
      "execution_count": 86,
      "outputs": [
        {
          "output_type": "stream",
          "name": "stderr",
          "text": [
            "/usr/local/lib/python3.7/dist-packages/ipykernel_launcher.py:23: SettingWithCopyWarning: \n",
            "A value is trying to be set on a copy of a slice from a DataFrame\n",
            "\n",
            "See the caveats in the documentation: https://pandas.pydata.org/pandas-docs/stable/user_guide/indexing.html#returning-a-view-versus-a-copy\n",
            "/usr/local/lib/python3.7/dist-packages/ipykernel_launcher.py:24: SettingWithCopyWarning: \n",
            "A value is trying to be set on a copy of a slice from a DataFrame\n",
            "\n",
            "See the caveats in the documentation: https://pandas.pydata.org/pandas-docs/stable/user_guide/indexing.html#returning-a-view-versus-a-copy\n",
            "/usr/local/lib/python3.7/dist-packages/ipykernel_launcher.py:26: SettingWithCopyWarning: \n",
            "A value is trying to be set on a copy of a slice from a DataFrame\n",
            "\n",
            "See the caveats in the documentation: https://pandas.pydata.org/pandas-docs/stable/user_guide/indexing.html#returning-a-view-versus-a-copy\n",
            "/usr/local/lib/python3.7/dist-packages/ipykernel_launcher.py:27: SettingWithCopyWarning: \n",
            "A value is trying to be set on a copy of a slice from a DataFrame\n",
            "\n",
            "See the caveats in the documentation: https://pandas.pydata.org/pandas-docs/stable/user_guide/indexing.html#returning-a-view-versus-a-copy\n",
            "/usr/local/lib/python3.7/dist-packages/ipykernel_launcher.py:17: SettingWithCopyWarning: \n",
            "A value is trying to be set on a copy of a slice from a DataFrame\n",
            "\n",
            "See the caveats in the documentation: https://pandas.pydata.org/pandas-docs/stable/user_guide/indexing.html#returning-a-view-versus-a-copy\n",
            "/usr/local/lib/python3.7/dist-packages/ipykernel_launcher.py:18: SettingWithCopyWarning: \n",
            "A value is trying to be set on a copy of a slice from a DataFrame\n",
            "\n",
            "See the caveats in the documentation: https://pandas.pydata.org/pandas-docs/stable/user_guide/indexing.html#returning-a-view-versus-a-copy\n"
          ]
        }
      ]
    },
    {
      "cell_type": "code",
      "source": [
        "# Saving results to a csv file\n",
        "data.to_csv('data_new.csv')"
      ],
      "metadata": {
        "id": "XGd33Alph49y"
      },
      "execution_count": 87,
      "outputs": []
    },
    {
      "cell_type": "code",
      "source": [
        "sizes = list(data['Approval'].value_counts())\n",
        "labelsa = list(data['Approval'].unique())\n",
        "reasonsize = list(data['Reason'].value_counts())\n",
        "labelsr = list(data['Reason'].unique())"
      ],
      "metadata": {
        "id": "6WYI69c5pk3D"
      },
      "execution_count": 88,
      "outputs": []
    },
    {
      "cell_type": "code",
      "source": [
        "# Graphs\n",
        "plt.pie(sizes, labels = labelsa, autopct='%1.1f%%')\n",
        "plt.title('Proportion of Approved Buyers')"
      ],
      "metadata": {
        "colab": {
          "base_uri": "https://localhost:8080/",
          "height": 281
        },
        "id": "r0i3p2LHiEF2",
        "outputId": "27e5bf83-55d8-48e8-db3c-40a668fbddeb"
      },
      "execution_count": 91,
      "outputs": [
        {
          "output_type": "execute_result",
          "data": {
            "text/plain": [
              "Text(0.5, 1.0, 'Proportion of Approved Buyers')"
            ]
          },
          "metadata": {},
          "execution_count": 91
        },
        {
          "output_type": "display_data",
          "data": {
            "text/plain": [
              "<Figure size 432x288 with 1 Axes>"
            ],
            "image/png": "[encoded data removed]"
          },
          "metadata": {}
        }
      ]
    },
    {
      "cell_type": "code",
      "source": [
        "plt.pie(reasonsize, labels = labelsr, autopct='%1.1f%%')\n",
        "plt.title('Reasons why they were not approved')"
      ],
      "metadata": {
        "colab": {
          "base_uri": "https://localhost:8080/",
          "height": 281
        },
        "id": "wmVZcKycqiN4",
        "outputId": "c5d39c2b-f174-4dc9-b73c-965d10a786c9"
      },
      "execution_count": 92,
      "outputs": [
        {
          "output_type": "execute_result",
          "data": {
            "text/plain": [
              "Text(0.5, 1.0, 'Reasons why they were not approved')"
            ]
          },
          "metadata": {},
          "execution_count": 92
        },
        {
          "output_type": "display_data",
          "data": {
            "text/plain": [
              "<Figure size 432x288 with 1 Axes>"
            ],
            "image/png": "[encoded data removed]"
          },
          "metadata": {}
        }
      ]
    }
  ]
}